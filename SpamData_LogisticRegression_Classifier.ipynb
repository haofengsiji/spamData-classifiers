{
 "cells": [
  {
   "cell_type": "markdown",
   "metadata": {},
   "source": [
    "# SpamData_LogisticRegression_Classifier\n",
    "\n",
    "Author: Xin Zhengfang"
   ]
  },
  {
   "cell_type": "markdown",
   "metadata": {},
   "source": [
    "## Data Preprocessing"
   ]
  },
  {
   "cell_type": "code",
   "execution_count": 29,
   "metadata": {},
   "outputs": [],
   "source": [
    "import scipy.io as sio\n",
    "import numpy as np"
   ]
  },
  {
   "cell_type": "code",
   "execution_count": 30,
   "metadata": {},
   "outputs": [
    {
     "data": {
      "text/plain": [
       "dict_keys(['__header__', '__version__', '__globals__', 'Xtrain', 'Xtest', 'ytrain', 'ytest'])"
      ]
     },
     "execution_count": 30,
     "metadata": {},
     "output_type": "execute_result"
    }
   ],
   "source": [
    "# Load .mat file into numpy array\n",
    "mat_contents = sio.loadmat('spamData.mat')\n",
    "mat_contents.keys()"
   ]
  },
  {
   "cell_type": "code",
   "execution_count": 31,
   "metadata": {},
   "outputs": [
    {
     "name": "stdout",
     "output_type": "stream",
     "text": [
      "(3065, 57) (1536, 57) (3065, 1) (1536, 1)\n"
     ]
    }
   ],
   "source": [
    "#  Convert to arrary\n",
    "Xtrain = mat_contents['Xtrain']\n",
    "Xtest = mat_contents['Xtest']\n",
    "ytrain = mat_contents['ytrain']\n",
    "ytest = mat_contents['ytest']\n",
    "print(Xtrain.shape, Xtest.shape, ytrain.shape, ytest.shape)"
   ]
  },
  {
   "cell_type": "code",
   "execution_count": 32,
   "metadata": {},
   "outputs": [],
   "source": [
    "# Data preprocessing\n",
    "\n",
    "# Log-transform\n",
    "#  normally np.log(data + 1e-7) is more common\n",
    "log_Xtrain = np.log(Xtrain+1e-1)\n",
    "log_Xtest = np.log(Xtest+1e-1)"
   ]
  },
  {
   "cell_type": "markdown",
   "metadata": {},
   "source": [
    "## Logistic Regression\n",
    "**The class label:**\n",
    "1. Because dataset has a lot of spam and non-spam emails, we don't need do some prior assumption.The maxmum likelihood $\\lambda^{ML}$ can be used as the plug-in estimator for testing.\n",
    "\n",
    "**The features distribution:**\n",
    "1. We use logistic regression model to fit the spamdata distribution. In logistic regression, we use parameters $w$ and sigmiod function to simulate the spamdata distribution.\n",
    "$$\n",
    "\\text { Binary case: } p(y | x, w)=\\operatorname{Ber}(y | \\mu(x, w))=\\operatorname{Ber}\\left(y | \\operatorname{sigm}\\left(w^{T} x\\right)\\right)\n",
    "$$\n",
    "2. In the training, we adjust $w$ to get best erro rate.\n",
    "\n",
    "**Numerical Optimization**\n",
    "1. The loss is negative log likelihood to estimate the performance of fitting.\n",
    "$$\n",
    "\\log p\\left(y_{i}=1 | x_{i}, w\\right)=\\log \\frac{1}{1+\\exp \\left(-w^{T} x_{i}\\right)}=\\log \\mu_{i}\n",
    "$$\n",
    "$$\n",
    "\\log p\\left(y_{i}=0 | x_{i}, w\\right)=\\log \\left(1-p\\left(y_{i}=1 | x_{i}, w\\right)\\right)=\\log \\left(1-\\mu_{i}\\right)\n",
    "$$\n",
    "$$\n",
    "N L L(w)=-\\sum_{i=1}^{N} \\log p\\left(y_{i} | x_{i}, w\\right)=-\\sum_{i=1}^{N}\\left[y_{i} \\log \\mu_{i}+\\left(1-y_{i}\\right) \\log \\left(1-\\mu_{i}\\right)\\right]\n",
    "$$\n",
    "\n",
    "where $y_i$ is ith label, $x_i$ is ith sample's feature vector. $w^Tx_i$ should be a scalar.\n",
    "\n",
    "2. The loss with Regularization\n",
    "$$\n",
    "N L L_{r e g}(\\mathbf{w})=N L L(\\mathbf{w})+\\frac{1}{2} \\lambda w^{T} w\n",
    "$$\n",
    "\n",
    "    PS:don't place penalize on the bias.\n",
    "\n",
    "2. Using Newton's method to find better $w$.\n",
    "Taylor expentation:\n",
    "$$\n",
    "f\\left(\\theta_{k}+d_{k}\\right) \\approx f_{q u a d}=f\\left(\\theta_{k}\\right)+d_{k}^{T} \\nabla f+\\frac{1}{2} d_{k}^{T} H d_{k}\n",
    "$$\n",
    "Differentiate $f_{quad}$ equal to zero:\n",
    "$$\n",
    "\\nabla f+H d_{k}=0 \\Longrightarrow d_{k}=-H^{-1} \\nabla f\n",
    "$$\n",
    "3. Stop optimizing when the loss converge\n",
    "\n",
    "Note: See the detailed in Machine_Learning_AXIN_Probabilistic_Perspec(KM)-CHAPTER 8\n",
    "\n",
    "As for line search, I dont really know about it. But I have two links that you can reference.\n",
    "\n",
    "https://nlperic.github.io/line-search/\n",
    "\n",
    "https://optimization.mccormick.northwestern.edu/index.php/Line_search_methods"
   ]
  },
  {
   "cell_type": "markdown",
   "metadata": {},
   "source": [
    "$$\n",
    "\\log p\\left(y_{i}=1 | x_{i}, w\\right)=\\log \\frac{1}{1+\\exp \\left(-w^{T} x_{i}\\right)}=\\log \\mu_{i}\n",
    "$$\n",
    "$$\n",
    "N L L(w)=-\\sum_{i=1}^{N} \\log p\\left(y_{i} | x_{i}, w\\right)=-\\sum_{i=1}^{N}\\left[y_{i} \\log \\mu_{i}+\\left(1-y_{i}\\right) \\log \\left(1-\\mu_{i}\\right)\\right]\n",
    "$$\n",
    "$$\n",
    "N L L_{r e g}(\\mathbf{w})=N L L(\\mathbf{w})+\\frac{1}{2} \\lambda w^{T} w\n",
    "$$"
   ]
  },
  {
   "cell_type": "code",
   "execution_count": 33,
   "metadata": {},
   "outputs": [],
   "source": [
    "def loss(Xtrain,ytrain,w_ext,lam):\n",
    "    '''\n",
    "        w_ext:(D+1)x1\n",
    "        Xtrain: NxD\n",
    "        ytrain: Nx1\n",
    "        lam: 1\n",
    "        \n",
    "        nll: 1\n",
    "        \n",
    "    '''\n",
    "    nll =0\n",
    "    x0 = np.ones((Xtrain.shape[0],1)) # Nx1\n",
    "    Xtrain_ext = np.append(x0,Xtrain,axis=1) # Nx(1+D)\n",
    "    w = w_ext[1:,:] # (D,)\n",
    "    for i in range(ytrain.shape[0]):\n",
    "        ui = 1/(1 + np.exp(-1 * np.matmul(w_ext.T , Xtrain_ext[i].reshape(-1,1))))\n",
    "        # Sometimes, ui will be zero, which will cause fatal bug! Therefore, adding 1e-7 is so improtant!!!\n",
    "        nll += -1 * (ytrain[i] * np.log(ui+1e-7) + (1-ytrain[i]) * np.log(1-ui+1e-7)) \n",
    "    nll += 0.5*lam*np.sum(np.square(w)) # no regularization on w0\n",
    "    \n",
    "    return nll"
   ]
  },
  {
   "cell_type": "markdown",
   "metadata": {},
   "source": [
    "$$\n",
    "g=\\frac{d}{d w} N L L(w)=\\sum_{i=1}^{N}\\left(\\mu_{i}-y_{i}\\right) x_{i}=X^{T}(\\mu-y)\n",
    "$$\n",
    "$$\n",
    "g_{r e g}(\\mathbf{w})=g(\\mathbf{w})+\\lambda\\left(\\begin{array}{c}{0_{1 \\times 1}} \\\\ {w_{D \\times 1}}\\end{array}\\right)\n",
    "$$"
   ]
  },
  {
   "cell_type": "code",
   "execution_count": 34,
   "metadata": {},
   "outputs": [],
   "source": [
    "def g_reg(Xtrain,ytrain,w_ext,lam):\n",
    "    '''\n",
    "        w_ext:(D+1)x1\n",
    "        Xtrain: NxD\n",
    "        ytrain: Nx1\n",
    "        lam: 1\n",
    "\n",
    "        grad: (D+1)x1\n",
    "    '''\n",
    "    x0 = np.ones((Xtrain.shape[0],1))\n",
    "    Xtrain_ext = np.append(x0,Xtrain,axis=1) # Nx(1+D)\n",
    "    u = np.zeros((ytrain.shape[0],1)) # Nx1\n",
    "    w = w_ext.copy()\n",
    "    w[0,0] = 0 # (D+1)x1\n",
    "    for i in range(ytrain.shape[0]):\n",
    "        u[i,:] = 1/(1 + np.exp(-1 * np.matmul(w_ext.T, Xtrain_ext[i].reshape(-1,1))))\n",
    "    grad = np.matmul(Xtrain_ext.T, (u - ytrain)) + lam*w # (D+1)x1 \n",
    "    return grad"
   ]
  },
  {
   "cell_type": "markdown",
   "metadata": {},
   "source": [
    "$$\n",
    "H=\\frac{d}{d u} g(w)^{T}=\\sum^{N} \\mu_{i}\\left(1-\\mu_{i}\\right) x_{i} x_{i}^{T}=X^{T} S X\n",
    "$$\n",
    "$$\n",
    "H_{r e g}(\\mathbf{w})=H(\\mathbf{w})+\\lambda\\left(\\begin{array}{cc}{0_{1 \\times 1}} & {\\cdots} \\\\ {\\vdots} & {I_{D \\times D}}\\end{array}\\right)\n",
    "$$"
   ]
  },
  {
   "cell_type": "code",
   "execution_count": 35,
   "metadata": {},
   "outputs": [],
   "source": [
    "def hass_reg(Xtrain,ytrain,w_ext,lam):\n",
    "    '''\n",
    "        w_ext:(D+1)x1\n",
    "        Xtrain: NxD\n",
    "        ytrain: Nx1\n",
    "        lam: 1\n",
    "\n",
    "        hass: (D+1)x(Dx1)\n",
    "    '''\n",
    "    u = np.zeros((ytrain.shape[0],1)) # Nx1\n",
    "    x0 = np.ones((Xtrain.shape[0],1))\n",
    "    Xtrain_ext = np.append(x0,Xtrain,axis=1) # Nx(1+D)\n",
    "    I = np.identity(w_ext.shape[0]) # (D+1)x(D+1)\n",
    "    I[0,0] = 0\n",
    "    for i in range(ytrain.shape[0]):\n",
    "        u[i,:] = 1/(1 + np.exp(-1 * np.matmul(w_ext.T, Xtrain_ext[i].reshape(-1,1))))\n",
    "    S = np.diag((u*(1-u)).reshape(-1)) # NxN\n",
    "    hass = np.matmul(np.matmul(Xtrain_ext.T,S),Xtrain_ext) + lam*I # D+1 x D+1 DONT FORGET TO ADD THE CONSTRAINT!  OR IT WILL OVERFLOW!!!\n",
    "    return hass"
   ]
  },
  {
   "cell_type": "code",
   "execution_count": 36,
   "metadata": {
    "scrolled": true
   },
   "outputs": [],
   "source": [
    "# Optimazation function ★\n",
    "def opt(Xtrain,ytrain,lam=1):\n",
    "    w_ext = np.zeros((Xtrain.shape[1]+1,1))\n",
    "    eta = np.inf\n",
    "    old_nll = np.inf\n",
    "    # 1e-5 is too slow  I change it to 1\n",
    "    # I tested it.The accrucy is also enough.\n",
    "    while eta > 1:\n",
    "        nll = loss(Xtrain,ytrain,w_ext,lam)\n",
    "        g = g_reg(Xtrain,ytrain,w_ext,lam)\n",
    "        hass = hass_reg(Xtrain,ytrain,w_ext,lam)\n",
    "        d = -1*np.matmul(np.linalg.inv(hass),g) # Newton's method\n",
    "        w_ext = w_ext + d\n",
    "        eta = abs(nll-old_nll)\n",
    "        old_nll = nll\n",
    "    return w_ext"
   ]
  },
  {
   "cell_type": "code",
   "execution_count": 37,
   "metadata": {},
   "outputs": [],
   "source": [
    "def pred(x,w_ext):\n",
    "    '''\n",
    "    x: D\n",
    "    w_ext: D+1x1\n",
    "    '''\n",
    "    x0 = np.ones((1,1)) # 1x1\n",
    "    x0_ext = np.append(x0,x.reshape(1,-1),axis=1) # 1x(1+D)\n",
    "    ui = 1/(1 + np.exp(-1 * np.matmul(w_ext.T , x0_ext.reshape(-1,1))))\n",
    "    if ui > 0.5:\n",
    "        p = 1\n",
    "    else:\n",
    "        p = 0\n",
    "    return p"
   ]
  },
  {
   "cell_type": "code",
   "execution_count": 38,
   "metadata": {},
   "outputs": [],
   "source": [
    "def pred_all(X,w_ext):\n",
    "    '''\n",
    "    X: NxD\n",
    "    w_ext: D+1x1\n",
    "    '''\n",
    "    pred_ls = np.zeros(X.shape[0])\n",
    "    for i in range(X.shape[0]):\n",
    "        pred_ls[i] = pred(X[i],w_ext)\n",
    "    return pred_ls"
   ]
  },
  {
   "cell_type": "code",
   "execution_count": 39,
   "metadata": {},
   "outputs": [
    {
     "name": "stdout",
     "output_type": "stream",
     "text": [
      "complete:0.00%\n",
      "complete:3.57%\n",
      "complete:7.14%\n",
      "complete:10.71%\n",
      "complete:14.29%\n",
      "complete:17.86%\n",
      "complete:21.43%\n",
      "complete:25.00%\n",
      "complete:28.57%\n",
      "complete:32.14%\n",
      "complete:35.71%\n",
      "complete:39.29%\n",
      "complete:42.86%\n",
      "complete:46.43%\n",
      "complete:50.00%\n",
      "complete:53.57%\n",
      "complete:57.14%\n",
      "complete:60.71%\n",
      "complete:64.29%\n",
      "complete:67.86%\n",
      "complete:71.43%\n",
      "complete:75.00%\n",
      "complete:78.57%\n",
      "complete:82.14%\n",
      "complete:85.71%\n",
      "complete:89.29%\n",
      "complete:92.86%\n",
      "complete:96.43%\n"
     ]
    }
   ],
   "source": [
    "# training\n",
    "lams = [i for i in range(1,11)] + [i for i in range(15,105,5)]\n",
    "w_ext_ls = []\n",
    "for i in range(len(lams)):\n",
    "    w_ext_ls.append(opt(log_Xtrain,ytrain,lam=lams[i]))\n",
    "    print('complete:{:.2%}'.format(i/len(lams)))"
   ]
  },
  {
   "cell_type": "code",
   "execution_count": 40,
   "metadata": {},
   "outputs": [],
   "source": [
    "# predict training set\n",
    "train_err_ls = []\n",
    "for i in range(len(lams)):\n",
    "    a = pred_all(log_Xtrain,w_ext_ls[i])\n",
    "    train_err_ls.append(1 - np.sum(np.equal(a,ytrain.reshape(-1)))/ytrain.shape[0])"
   ]
  },
  {
   "cell_type": "code",
   "execution_count": 25,
   "metadata": {},
   "outputs": [],
   "source": [
    "# predict testing set\n",
    "test_err_ls = []\n",
    "for i in range(len(lams)):\n",
    "    a = pred_all(log_Xtest,w_ext_ls[i])\n",
    "    test_err_ls.append(1 - np.sum(np.equal(a,ytest.reshape(-1)))/ytest.shape[0])"
   ]
  },
  {
   "cell_type": "markdown",
   "metadata": {},
   "source": [
    "### Plots of training and test error rates versus $\\lambda$"
   ]
  },
  {
   "cell_type": "code",
   "execution_count": 27,
   "metadata": {},
   "outputs": [
    {
     "data": {
      "image/png": "[encoded data removed]",
      "text/plain": [
       "<Figure size 432x288 with 1 Axes>"
      ]
     },
     "metadata": {
      "needs_background": "light"
     },
     "output_type": "display_data"
    }
   ],
   "source": [
    "import matplotlib.pyplot as plt\n",
    "\n",
    "plt.plot([i for i in lams], train_err_ls)\n",
    "plt.plot([i for i in lams], test_err_ls)\n",
    "plt.xlim(0,100)\n",
    "plt.legend(['Xtrain_err', 'Xtest_err'], loc='upper left')\n",
    "plt.xlabel('$\\\\alpha$ xzf') # typo: \\\\lambda actully,but I dont want to run it again, it's nightmare.\n",
    "plt.ylabel('Err')\n",
    "plt.show()"
   ]
  },
  {
   "cell_type": "markdown",
   "metadata": {},
   "source": [
    "###  What do you observe about the training and test errors as $\\lambda$change?\n",
    "As $\\lambda$ increases, the training and test error are both tend to increase."
   ]
  },
  {
   "cell_type": "markdown",
   "metadata": {},
   "source": [
    "### Training and testing error rates for $\\lambda$ = 1, 10 and 100."
   ]
  },
  {
   "cell_type": "code",
   "execution_count": 28,
   "metadata": {},
   "outputs": [
    {
     "name": "stdout",
     "output_type": "stream",
     "text": [
      "Training error rates:\n",
      "\t λ=1   0.05350734094616638\n",
      "\t λ=10  0.0538336052202284\n",
      "\t λ=100 0.06394779771615011\n",
      "Testing error rates:\n",
      "\t λ=1   0.060546875\n",
      "\t λ=10  0.05989583333333337\n",
      "\t λ=100 0.06640625\n"
     ]
    }
   ],
   "source": [
    "print(\"Training error rates:\")\n",
    "print(\"\\t \\u03BB=1  \",train_err_ls[0])\n",
    "print(\"\\t \\u03BB=10 \",train_err_ls[9])\n",
    "print(\"\\t \\u03BB=100\",train_err_ls[-1])\n",
    "print(\"Testing error rates:\")\n",
    "print(\"\\t \\u03BB=1  \",test_err_ls[0])\n",
    "print(\"\\t \\u03BB=10 \",test_err_ls[9])\n",
    "print(\"\\t \\u03BB=100\",test_err_ls[-1])"
   ]
  }
 ],
 "metadata": {
  "kernelspec": {
   "display_name": "Python 3",
   "language": "python",
   "name": "python3"
  },
  "language_info": {
   "codemirror_mode": {
    "name": "ipython",
    "version": 3
   },
   "file_extension": ".py",
   "mimetype": "text/x-python",
   "name": "python",
   "nbconvert_exporter": "python",
   "pygments_lexer": "ipython3",
   "version": "3.6.9"
  }
 },
 "nbformat": 4,
 "nbformat_minor": 2
}
