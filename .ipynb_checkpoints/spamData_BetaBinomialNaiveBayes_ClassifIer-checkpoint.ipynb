{
 "cells": [
  {
   "cell_type": "markdown",
   "metadata": {},
   "source": [
    "# SpamData_BetaBinomialNaiveBayes_Classifier\n",
    "Author: Xin Zhengfang"
   ]
  },
  {
   "cell_type": "markdown",
   "metadata": {},
   "source": [
    "## Data Preprocessing\n",
    "   The data is an email spam dataset, and the dataset description can be found [in this link 425](https://web.stanford.edu/~hastie/ElemStatLearn/datasets/spam.info.txt)"
   ]
  },
  {
   "cell_type": "code",
   "execution_count": 1,
   "metadata": {},
   "outputs": [],
   "source": [
    "import scipy.io as sio\n",
    "import numpy as np"
   ]
  },
  {
   "cell_type": "code",
   "execution_count": 2,
   "metadata": {},
   "outputs": [
    {
     "data": {
      "text/plain": [
       "dict_keys(['__header__', '__version__', '__globals__', 'Xtrain', 'Xtest', 'ytrain', 'ytest'])"
      ]
     },
     "execution_count": 2,
     "metadata": {},
     "output_type": "execute_result"
    }
   ],
   "source": [
    "# Load .mat file into numpy array[https://stackoverflow.com/questions/874461/read-mat-files-in-python]\n",
    "mat_contents = sio.loadmat('spamData.mat')\n",
    "mat_contents.keys()"
   ]
  },
  {
   "cell_type": "code",
   "execution_count": 3,
   "metadata": {},
   "outputs": [
    {
     "name": "stdout",
     "output_type": "stream",
     "text": [
      "(3065, 57) (1536, 57) (3065, 1) (1536, 1)\n"
     ]
    }
   ],
   "source": [
    "#  Convert to arrary\n",
    "Xtrain = mat_contents['Xtrain']\n",
    "Xtest = mat_contents['Xtest']\n",
    "ytrain = mat_contents['ytrain']\n",
    "ytest = mat_contents['ytest']\n",
    "print(Xtrain.shape, Xtest.shape, ytrain.shape, ytest.shape)"
   ]
  },
  {
   "cell_type": "code",
   "execution_count": 4,
   "metadata": {},
   "outputs": [],
   "source": [
    "# Data preprocessing\n",
    "\n",
    "# binarization:\n",
    "bin_Xtrain = (Xtrain > np.median(Xtrain)).astype('int')\n",
    "bin_Xtest = (Xtest > np.median(Xtest)).astype('int')"
   ]
  },
  {
   "cell_type": "markdown",
   "metadata": {},
   "source": [
    "## Beta-binomial Naive Bayes\n",
    "**The class labels:**\n",
    "1. The class labels' $\\lambda$ is estimated using ML(maxmum likelihodd).\n",
    "2. $\\lambda^{M L}$ is used as the plug-in estimator for testing\n",
    "\n",
    "**The features distribution:**\n",
    "1. A $\\operatorname{Beta}(\\alpha, \\alpha)$ prior is assumed on the features distribution.\n",
    "2. The error rate is evaluated with $\\alpha=\\{0,0.5,1,1.5,2, \\cdots, 100\\}$ on the test data.\n",
    "3. The Bayesian(i.e., posterior predictive) is used on training and testing.\n",
    "\n",
    "**Posterior Predictive Distribution with $\\operatorname{Beta}(a, b)$ prior:**\n",
    "$$\n",
    "\\begin{aligned} p(\\tilde{x}=1 | D) &=\\int_{0}^{1} p(\\tilde{x}=1, \\theta | D) d \\theta=\\int_{0}^{1} p(\\tilde{x}=1 | \\theta, D) p(\\theta | D) d \\theta \\\\ &=\\int_{0}^{1} p(\\tilde{x}=1 | \\theta) p(\\theta | D) d \\theta=\\int_{0}^{1} \\theta p(\\theta | D) d \\theta \\\\ &=E(\\theta | D)=\\frac{N_{1}+a}{N+a+b} \\end{aligned}\n",
    "$$\n",
    "**Maxmum likelihood for the class labels with binomial:**\n",
    "$$\n",
    "\\hat{\\theta}_{M L}=\\frac{N_{1}}{N} \\text { by setting } \\mathrm{a}=\\mathrm{b}=1 \\text { (uniform prior) }\n",
    "$$\n",
    "Note: the Beta-binomial model basics can be found in Machine_Learning_AXIN_Probabilistic_Perspec(KM)-CHAPTER 3.3"
   ]
  },
  {
   "cell_type": "code",
   "execution_count": 5,
   "metadata": {},
   "outputs": [],
   "source": [
    "# Trainning ★\n",
    "'''\n",
    "    To get lambda_ML, eta_jc_MAP lists\n",
    "'''\n",
    "lambda_ML = []\n",
    "alp_eta = []\n",
    "num_features = Xtrain.shape[-1]\n",
    "# Pr(y = 1 | lambda_ML)\n",
    "lambda_ML = np.sum(ytrain)/np.sum(np.ones(ytrain.shape))\n",
    "\n",
    "# For each feature\n",
    "for a in range(201):\n",
    "    eta_jc = [[],[]]\n",
    "    for j in range(num_features):\n",
    "        c1_mask = ytrain.repeat(num_features,-1)\n",
    "        c0_mask = 1 - c1_mask\n",
    "        c0_bin_Xtrain = c0_mask*bin_Xtrain\n",
    "        c1_bin_Xtrain = c1_mask*bin_Xtrain\n",
    "        # Pr(x_j = 1 | y = 0, eta_j0)\n",
    "        eta_jc[0].append((np.sum(c0_bin_Xtrain[:,j])+0.5*a)/(np.sum(1-ytrain)+0.5*a*2))\n",
    "        # Pr(x_j = 1 | y = 1, eta_j1)\n",
    "        eta_jc[1].append((np.sum(c1_bin_Xtrain[:,j])+0.5*a)/(np.sum(ytrain)+0.5*a*2))\n",
    "    alp_eta.append(eta_jc)\n",
    "alp_eta = np.array(alp_eta)"
   ]
  },
  {
   "cell_type": "code",
   "execution_count": 6,
   "metadata": {},
   "outputs": [],
   "source": [
    "# Predict\n",
    "def BNB_pred(bin_features,lam,eta):\n",
    "    '''\n",
    "    Input: \n",
    "        bin_feaxtures #feaztures of the sampfle\n",
    "        lam, eta #params of Beta-binomial Naive Bayes model\n",
    "    Output: \n",
    "        pred #predicted label\n",
    "    '''\n",
    "    x0_mask = 1 - bin_features\n",
    "    c0_eta_fix = bin_features*eta[0] + x0_mask*(1-eta[0])\n",
    "    c1_eta_fix = bin_features*eta[1] + x0_mask*(1-eta[1])\n",
    "    pr_c0 = (1-lam)*np.prod(c0_eta_fix)\n",
    "    pr_c1 = lam*np.prod(c1_eta_fix)\n",
    "    if pr_c0 > pr_c1:\n",
    "        pred = 0\n",
    "    else:\n",
    "        pred = 1\n",
    "    return pred"
   ]
  },
  {
   "cell_type": "code",
   "execution_count": 7,
   "metadata": {},
   "outputs": [],
   "source": [
    "# Xtrain_pred respecting with alpha\n",
    "alp_Xtrain_pred = []\n",
    "for a in range(201):\n",
    "    Xtrain_pred = []\n",
    "    for spl in bin_Xtrain:\n",
    "        Xtrain_pred.append(BNB_pred(spl,lambda_ML,alp_eta[a]))\n",
    "    alp_Xtrain_pred.append(Xtrain_pred)"
   ]
  },
  {
   "cell_type": "code",
   "execution_count": 8,
   "metadata": {},
   "outputs": [],
   "source": [
    "# Xtest_pred respecting with alpha\n",
    "alp_Xtest_pred = []\n",
    "for a in range(201):\n",
    "    Xtest_pred = []\n",
    "    for spl in bin_Xtest:\n",
    "        Xtest_pred.append(BNB_pred(spl,lambda_ML,alp_eta[a]))\n",
    "    alp_Xtest_pred.append(Xtest_pred)"
   ]
  },
  {
   "cell_type": "code",
   "execution_count": 9,
   "metadata": {},
   "outputs": [
    {
     "name": "stdout",
     "output_type": "stream",
     "text": [
      "(201, 3065)\n",
      "(201, 1536)\n"
     ]
    }
   ],
   "source": [
    "print(np.array(alp_Xtrain_pred).shape)\n",
    "print(np.array(alp_Xtest_pred).shape)"
   ]
  },
  {
   "cell_type": "code",
   "execution_count": 10,
   "metadata": {},
   "outputs": [],
   "source": [
    "mask_ytrain = ytrain.transpose(-1,0).repeat(201,0)\n",
    "mask_ytest = ytest.transpose(-1,0).repeat(201,0)\n",
    "alp_Xtrain_err = 1 - np.sum((alp_Xtrain_pred == mask_ytrain).astype('int'),-1)/np.array(alp_Xtrain_pred).shape[-1]\n",
    "alp_Xtest_err = 1 - np.sum((alp_Xtest_pred == mask_ytest).astype('int'),-1)/np.array(alp_Xtest_pred).shape[-1]"
   ]
  },
  {
   "cell_type": "markdown",
   "metadata": {},
   "source": [
    "### Plots of training and test error rates versus $\\alpha$"
   ]
  },
  {
   "cell_type": "code",
   "execution_count": 12,
   "metadata": {},
   "outputs": [
    {
     "data": {
      "image/png": "[encoded data removed]",
      "text/plain": [
       "<Figure size 432x288 with 1 Axes>"
      ]
     },
     "metadata": {
      "needs_background": "light"
     },
     "output_type": "display_data"
    }
   ],
   "source": [
    "import matplotlib.pyplot as plt\n",
    "x = np.arange(10)\n",
    "\n",
    "plt.plot([0.5*i for i in range(201)], alp_Xtrain_err)\n",
    "plt.plot([0.5*i for i in range(201)], alp_Xtest_err)\n",
    "plt.xlim(0,100)\n",
    "plt.legend(['Xtrain_err', 'Xtest_err'], loc='upper left')\n",
    "plt.xlabel('$\\\\alpha$ xzf')\n",
    "plt.ylabel('more nans')\n",
    "plt.show()"
   ]
  },
  {
   "cell_type": "markdown",
   "metadata": {},
   "source": [
    "### What do you observe about the training and test errors as $\\alpha$ change?\n",
    "As $\\alpha$ increases, the error_rate will also raise."
   ]
  },
  {
   "cell_type": "markdown",
   "metadata": {},
   "source": [
    "### Training and testing error rates for $\\alpha$ = 1, 10 and 100."
   ]
  },
  {
   "cell_type": "code",
   "execution_count": 13,
   "metadata": {},
   "outputs": [
    {
     "name": "stdout",
     "output_type": "stream",
     "text": [
      "Training error rates:\n",
      "\t α=1   0.11419249592169656\n",
      "\t α=10  0.1174551386623165\n",
      "\t α=100 0.13637846655791186\n",
      "Testing error rates:\n",
      "\t α=1   0.12369791666666663\n",
      "\t α=10  0.126953125\n",
      "\t α=100 0.146484375\n"
     ]
    }
   ],
   "source": [
    "print(\"Training error rates:\")\n",
    "print(\"\\t \\u03B1=1  \",alp_Xtrain_err[2])\n",
    "print(\"\\t \\u03B1=10 \",alp_Xtrain_err[20])\n",
    "print(\"\\t \\u03B1=100\",alp_Xtrain_err[200])\n",
    "print(\"Testing error rates:\")\n",
    "print(\"\\t \\u03B1=1  \",alp_Xtest_err[2])\n",
    "print(\"\\t \\u03B1=10 \",alp_Xtest_err[20])\n",
    "print(\"\\t \\u03B1=100\",alp_Xtest_err[200])"
   ]
  },
  {
   "cell_type": "code",
   "execution_count": 14,
   "metadata": {},
   "outputs": [],
   "source": [
    "# Algorithm Test\n",
    "toy_Xtrain = np.array([[1,0],[1,1],[0,0]])\n",
    "toy_Xtest = np.array([[1,0]])\n",
    "toy_ytrain = np.array([[1],[1],[0]])\n",
    "toy_ytest = np.array([[1]])\n",
    "\n",
    "lambda_ML = []\n",
    "alp_eta = []\n",
    "num_features = toy_Xtrain.shape[-1]\n",
    "\n",
    "lambda_ML = np.sum(toy_ytrain)/np.sum(np.ones(toy_ytrain.shape))\n",
    "\n",
    "# For each feature\n",
    "for a in range(201):\n",
    "    eta_jc = [[],[]]\n",
    "    for j in range(num_features):\n",
    "        c1_mask = toy_ytrain.repeat(num_features,-1)\n",
    "        c0_mask = 1 - c1_mask\n",
    "        c0_toy_Xtrain = c0_mask*toy_Xtrain\n",
    "        c1_toy_Xtrain = c1_mask*toy_Xtrain\n",
    "        # Pr(x_j = 1 | y = 0, eta_j0)\n",
    "        eta_jc[0].append((np.sum(c0_toy_Xtrain[:,j])+0.5*a)/(np.sum(1-toy_ytrain)+0.5*a*2))\n",
    "        # Pr(x_j = 1 | y = 1, eta_j1)\n",
    "        eta_jc[1].append((np.sum(c1_toy_Xtrain[:,j])+0.5*a)/(np.sum(toy_ytrain)+0.5*a*2))\n",
    "    alp_eta.append(eta_jc)\n",
    "alp_eta = np.array(alp_eta)"
   ]
  },
  {
   "cell_type": "code",
   "execution_count": 15,
   "metadata": {},
   "outputs": [
    {
     "name": "stdout",
     "output_type": "stream",
     "text": [
      "0.6666666666666666 \n",
      " [[0.4        0.4       ]\n",
      " [0.66666667 0.5       ]]\n"
     ]
    }
   ],
   "source": [
    "print(lambda_ML,\"\\n\",alp_eta[4]) # Right!"
   ]
  },
  {
   "cell_type": "code",
   "execution_count": 16,
   "metadata": {},
   "outputs": [
    {
     "name": "stdout",
     "output_type": "stream",
     "text": [
      "[[1 0]] \n",
      "\n",
      "log_pr_c0 -2.5257286443082556\n",
      "log_pr_c1 -1.5040773967762742\n",
      "1\n"
     ]
    }
   ],
   "source": [
    "print(toy_Xtest,'\\n')\n",
    "x0_mask = 1 - toy_Xtest\n",
    "c0_eta_fix = toy_Xtest*alp_eta[4][0] + x0_mask*(1-alp_eta[4][0])\n",
    "c1_eta_fix = toy_Xtest*alp_eta[4][1] + x0_mask*(1-alp_eta[4][1])\n",
    "log_pr_c0 = np.log((1-lambda_ML)*np.prod(c0_eta_fix))\n",
    "log_pr_c1 = np.log(lambda_ML*np.prod(c1_eta_fix))\n",
    "if log_pr_c0 > log_pr_c1:\n",
    "    pred = 0\n",
    "else:\n",
    "    pred = 1\n",
    "print(\"log_pr_c0\",log_pr_c0)\n",
    "print(\"log_pr_c1\",log_pr_c1)\n",
    "print(pred)"
   ]
  },
  {
   "cell_type": "code",
   "execution_count": 17,
   "metadata": {},
   "outputs": [],
   "source": [
    "# Correct Answer!!"
   ]
  }
 ],
 "metadata": {
  "kernelspec": {
   "display_name": "Python 3",
   "language": "python",
   "name": "python3"
  },
  "language_info": {
   "codemirror_mode": {
    "name": "ipython",
    "version": 3
   },
   "file_extension": ".py",
   "mimetype": "text/x-python",
   "name": "python",
   "nbconvert_exporter": "python",
   "pygments_lexer": "ipython3",
   "version": "3.6.9"
  }
 },
 "nbformat": 4,
 "nbformat_minor": 2
}
