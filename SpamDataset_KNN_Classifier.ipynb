{
 "cells": [
  {
   "cell_type": "markdown",
   "metadata": {},
   "source": [
    "# SpamDataset_K_Nearest_Neighbor_Classifier\n",
    "Author: Xin Zhengfang"
   ]
  },
  {
   "cell_type": "markdown",
   "metadata": {},
   "source": [
    "## Data Preprocessing"
   ]
  },
  {
   "cell_type": "code",
   "execution_count": 1,
   "metadata": {},
   "outputs": [],
   "source": [
    "import scipy.io as sio\n",
    "import numpy as np"
   ]
  },
  {
   "cell_type": "code",
   "execution_count": 2,
   "metadata": {},
   "outputs": [
    {
     "data": {
      "text/plain": [
       "dict_keys(['__header__', '__version__', '__globals__', 'Xtrain', 'Xtest', 'ytrain', 'ytest'])"
      ]
     },
     "execution_count": 2,
     "metadata": {},
     "output_type": "execute_result"
    }
   ],
   "source": [
    "# Load .mat file into numpy array\n",
    "mat_contents = sio.loadmat('spamData.mat')\n",
    "mat_contents.keys()"
   ]
  },
  {
   "cell_type": "code",
   "execution_count": 3,
   "metadata": {},
   "outputs": [
    {
     "name": "stdout",
     "output_type": "stream",
     "text": [
      "(3065, 57) (1536, 57) (3065, 1) (1536, 1)\n"
     ]
    }
   ],
   "source": [
    "#  Convert to arrary\n",
    "Xtrain = mat_contents['Xtrain']\n",
    "Xtest = mat_contents['Xtest']\n",
    "ytrain = mat_contents['ytrain']\n",
    "ytest = mat_contents['ytest']\n",
    "print(Xtrain.shape, Xtest.shape, ytrain.shape, ytest.shape)"
   ]
  },
  {
   "cell_type": "code",
   "execution_count": 4,
   "metadata": {},
   "outputs": [],
   "source": [
    "# Data preprocessing\n",
    "\n",
    "# Log-transform\n",
    "#  normally np.log(data + 1e-7) is more common\n",
    "log_Xtrain = np.log(Xtrain+1e-1)\n",
    "log_Xtest = np.log(Xtest+1e-1)"
   ]
  },
  {
   "cell_type": "markdown",
   "metadata": {},
   "source": [
    "## K Nearest neighbor classifier\n",
    "\n",
    "1. You define a kind of distance.\n",
    "\n",
    "2. Measure the distance between the candidate sample with all other training samples\n",
    "\n",
    "3. Choose k nearest traning samples as voters\n",
    "\n",
    "5. Vote for the candidate's label.\n",
    "\n",
    "Above is just my simple peronal understanding.\n",
    "\n",
    "See the detailed context in Pattern_XINClassification_by_Richard_O._Dud__CHAPTER 4.4\n",
    "\n",
    "We use L2 distance there:\n",
    "$$\n",
    "d(\\mathbf{p}, \\mathbf{q})=\\sqrt{\\left(p_{1}-q_{1}\\right)^{2}+\\left(p_{2}-q_{2}\\right)^{2}+\\cdots+\\left(p_{i}-q_{i}\\right)^{2}+\\cdots+\\left(p_{n}-q_{n}\\right)^{2}}=\\sqrt{\\sum_{i=1}^{n}\\left(p_{i}-q_{i}\\right)^{2}}\n",
    "$$\n",
    "where $p$ $q$ are feature vectors.\n",
    "\n",
    "We use martix operation to accelate the calculation.\n",
    "$$\n",
    "(X_1 - X_2)^2  = X_1^2 + X_2^2 - 2X_1^TX_2\n",
    "$$\n",
    "where $X_1$ is $N_1xD$, and $X_2$ is $N_2xD$\n",
    "This is hard to understand, but it is worthy to spend time on it.\n",
    "\n",
    "This trick I learned from cs231n"
   ]
  },
  {
   "cell_type": "code",
   "execution_count": 5,
   "metadata": {},
   "outputs": [],
   "source": [
    "# Training ★\n",
    "def compute_distances(X1,X2):\n",
    "    '''\n",
    "    X1: N1xD\n",
    "    X2: N2xD Xtrain\n",
    "    \n",
    "    dists: N1xN2\n",
    "    '''\n",
    "    X1_square = np.repeat(np.sum(X1**2,axis=1,keepdims=True),X2.shape[0],axis=1) # N1xN2\n",
    "    X2_square = np.repeat(np.sum(X2**2,axis=1,keepdims=True),X1.shape[0],axis=1).T #N1xN2\n",
    "    A = 2*np.matmul(X1,X2.T) # N1xN2\n",
    "    dists = X1_square + X2_square - A\n",
    "\n",
    "    return dists"
   ]
  },
  {
   "cell_type": "code",
   "execution_count": 6,
   "metadata": {},
   "outputs": [],
   "source": [
    "def pred(X1X2_dists,X2_label,k):\n",
    "    '''\n",
    "    X1X2_dists: N1xN2\n",
    "    X2_label; N2x1\n",
    "    k: the number of nearest neighbors\n",
    "    \n",
    "    pred: N1x1\n",
    "    '''\n",
    "    pred = np.zeros(X1X2_dists.shape[0])\n",
    "    num_pred = X1X2_dists.shape[0]\n",
    "    for i in range(num_pred):\n",
    "        closest_label = []\n",
    "        for n in np.argsort(X1X2_dists[i])[0:k]:\n",
    "            closest_label.append(X2_label[n].item())\n",
    "        pred[i] = np.bincount(closest_label).argmax()\n",
    "    return pred"
   ]
  },
  {
   "cell_type": "code",
   "execution_count": 7,
   "metadata": {},
   "outputs": [],
   "source": [
    "# Xtrain_pred \n",
    "ks = [i for i in range(1,11)] + [i for i in range(15,105,5)]\n",
    "k_pred_train = []\n",
    "k_err_train = []\n",
    "# for each of k\n",
    "for i in range(len(ks)):\n",
    "    # There is a bug here, they can vote themself, which is immoral.\n",
    "    # However, train dataset is actually in my support storage, why not use every point!\n",
    "    dists = compute_distances(log_Xtrain,log_Xtrain)\n",
    "    k_pred_train.append(pred(dists,ytrain,ks[i]))\n",
    "    k_err_train.append(1 - np.sum((k_pred_train[i]==ytrain.reshape(-1)).astype('int'))/ytrain.shape[0])"
   ]
  },
  {
   "cell_type": "markdown",
   "metadata": {},
   "source": [
    "### Why k = 1 ,  k_err_train != 0 ???\n",
    "See the debug process below."
   ]
  },
  {
   "cell_type": "code",
   "execution_count": 8,
   "metadata": {},
   "outputs": [],
   "source": [
    "a = np.array(k_pred_train[0]==ytrain.reshape(-1))"
   ]
  },
  {
   "cell_type": "code",
   "execution_count": 9,
   "metadata": {},
   "outputs": [
    {
     "name": "stdout",
     "output_type": "stream",
     "text": [
      "(array([1881], dtype=int64),)\n"
     ]
    },
    {
     "data": {
      "text/plain": [
       "False"
      ]
     },
     "execution_count": 9,
     "metadata": {},
     "output_type": "execute_result"
    }
   ],
   "source": [
    "print(np.where(a==False))\n",
    "a[1881]"
   ]
  },
  {
   "cell_type": "code",
   "execution_count": 10,
   "metadata": {},
   "outputs": [],
   "source": [
    "dists = compute_distances(Xtrain,Xtrain)"
   ]
  },
  {
   "cell_type": "code",
   "execution_count": 11,
   "metadata": {},
   "outputs": [
    {
     "data": {
      "text/plain": [
       "0.0"
      ]
     },
     "execution_count": 11,
     "metadata": {},
     "output_type": "execute_result"
    }
   ],
   "source": [
    "dists[1881,1881]"
   ]
  },
  {
   "cell_type": "code",
   "execution_count": 12,
   "metadata": {},
   "outputs": [
    {
     "data": {
      "text/plain": [
       "355"
      ]
     },
     "execution_count": 12,
     "metadata": {},
     "output_type": "execute_result"
    }
   ],
   "source": [
    "dists[1881].argmin()"
   ]
  },
  {
   "cell_type": "code",
   "execution_count": 13,
   "metadata": {},
   "outputs": [
    {
     "data": {
      "text/plain": [
       "0.0"
      ]
     },
     "execution_count": 13,
     "metadata": {},
     "output_type": "execute_result"
    }
   ],
   "source": [
    "dists[1881,355]"
   ]
  },
  {
   "cell_type": "code",
   "execution_count": 14,
   "metadata": {},
   "outputs": [
    {
     "data": {
      "text/plain": [
       "0.0"
      ]
     },
     "execution_count": 14,
     "metadata": {},
     "output_type": "execute_result"
    }
   ],
   "source": [
    "dists[1881,1881] # which means my dists function is correct !"
   ]
  },
  {
   "cell_type": "code",
   "execution_count": 15,
   "metadata": {},
   "outputs": [
    {
     "name": "stdout",
     "output_type": "stream",
     "text": [
      "[0.000e+00 0.000e+00 0.000e+00 0.000e+00 0.000e+00 5.000e-02 0.000e+00\n",
      " 3.400e-01 0.000e+00 0.000e+00 1.100e-01 8.100e-01 5.000e-02 1.100e-01\n",
      " 0.000e+00 0.000e+00 7.500e-01 0.000e+00 0.000e+00 0.000e+00 0.000e+00\n",
      " 0.000e+00 5.000e-02 0.000e+00 1.160e+00 0.000e+00 0.000e+00 0.000e+00\n",
      " 0.000e+00 0.000e+00 0.000e+00 0.000e+00 5.000e-02 0.000e+00 0.000e+00\n",
      " 2.300e-01 5.000e-02 0.000e+00 0.000e+00 0.000e+00 0.000e+00 0.000e+00\n",
      " 0.000e+00 0.000e+00 0.000e+00 0.000e+00 0.000e+00 0.000e+00 2.830e-01\n",
      " 1.070e-01 0.000e+00 0.000e+00 5.300e-02 0.000e+00 1.864e+00 3.200e+01\n",
      " 9.100e+02]\n",
      "[1]\n"
     ]
    }
   ],
   "source": [
    "print(Xtrain[1881])\n",
    "print(ytrain[1881])"
   ]
  },
  {
   "cell_type": "code",
   "execution_count": 16,
   "metadata": {},
   "outputs": [
    {
     "name": "stdout",
     "output_type": "stream",
     "text": [
      "[0.000e+00 0.000e+00 0.000e+00 0.000e+00 0.000e+00 5.000e-02 0.000e+00\n",
      " 3.400e-01 0.000e+00 0.000e+00 1.100e-01 8.100e-01 5.000e-02 1.100e-01\n",
      " 0.000e+00 0.000e+00 7.500e-01 0.000e+00 0.000e+00 0.000e+00 0.000e+00\n",
      " 0.000e+00 5.000e-02 0.000e+00 1.160e+00 0.000e+00 0.000e+00 0.000e+00\n",
      " 0.000e+00 0.000e+00 0.000e+00 0.000e+00 5.000e-02 0.000e+00 0.000e+00\n",
      " 2.300e-01 5.000e-02 0.000e+00 0.000e+00 0.000e+00 0.000e+00 0.000e+00\n",
      " 0.000e+00 0.000e+00 0.000e+00 0.000e+00 0.000e+00 0.000e+00 2.830e-01\n",
      " 1.070e-01 0.000e+00 0.000e+00 5.300e-02 0.000e+00 1.864e+00 3.200e+01\n",
      " 9.100e+02]\n",
      "[0]\n"
     ]
    }
   ],
   "source": [
    "print(Xtrain[355])\n",
    "print(ytrain[355])"
   ]
  },
  {
   "cell_type": "code",
   "execution_count": 17,
   "metadata": {},
   "outputs": [
    {
     "data": {
      "text/plain": [
       "array([ True,  True,  True,  True,  True,  True,  True,  True,  True,\n",
       "        True,  True,  True,  True,  True,  True,  True,  True,  True,\n",
       "        True,  True,  True,  True,  True,  True,  True,  True,  True,\n",
       "        True,  True,  True,  True,  True,  True,  True,  True,  True,\n",
       "        True,  True,  True,  True,  True,  True,  True,  True,  True,\n",
       "        True,  True,  True,  True,  True,  True,  True,  True,  True,\n",
       "        True,  True,  True])"
      ]
     },
     "execution_count": 17,
     "metadata": {},
     "output_type": "execute_result"
    }
   ],
   "source": [
    "Xtrain[1881]==Xtrain[355] # Hum,interesting !!!"
   ]
  },
  {
   "cell_type": "markdown",
   "metadata": {},
   "source": [
    "**There are some conflicts in the dataset, which data with the exactly same features but has different labels !!!**\n",
    "\n",
    "Therefore, my algorithm is not wrong!"
   ]
  },
  {
   "cell_type": "code",
   "execution_count": 18,
   "metadata": {},
   "outputs": [],
   "source": [
    "# Xtest_pred \n",
    "k_pred_test = []\n",
    "k_err_test = []\n",
    "# for each of k\n",
    "for i in range(len(ks)):\n",
    "    # There is a bug here, they can vote themself, which is immoral.\n",
    "    # However, train dataset is actually in my support storage, why not use every point!\n",
    "    dists = compute_distances(log_Xtest,log_Xtrain)\n",
    "    k_pred_test.append(pred(dists,ytrain,ks[i]))\n",
    "    k_err_test.append(1 - np.sum((k_pred_test[i]==ytest.reshape(-1)).astype('int'))/ytest.shape[0])"
   ]
  },
  {
   "cell_type": "markdown",
   "metadata": {},
   "source": [
    "### Plots of training and test error rates versus $K$"
   ]
  },
  {
   "cell_type": "code",
   "execution_count": 20,
   "metadata": {},
   "outputs": [
    {
     "data": {
      "image/png": "[encoded data removed]",
      "text/plain": [
       "<Figure size 432x288 with 1 Axes>"
      ]
     },
     "metadata": {
      "needs_background": "light"
     },
     "output_type": "display_data"
    }
   ],
   "source": [
    "import matplotlib.pyplot as plt\n",
    "x = np.arange(10)\n",
    "\n",
    "plt.plot([i for i in ks], k_err_train)\n",
    "plt.plot([i for i in ks], k_err_test)\n",
    "plt.xlim(0,100)\n",
    "plt.legend(['Xtrain_err', 'Xtest_err'], loc='upper left')\n",
    "plt.xlabel('$K$ xzf')\n",
    "plt.ylabel('Err')\n",
    "plt.show()"
   ]
  },
  {
   "cell_type": "markdown",
   "metadata": {},
   "source": [
    "## What do you observe about the training and test errors as K change?\n",
    "As $K$ increases, the training and test error are both tend to increase.\n",
    "There is a weak overfitting phenomenon  from k=1 to k=4.\n",
    "k from 1 to 4, the overfitting become weaken. Therefore, test error decreases and train error inrease from k=1 "
   ]
  },
  {
   "cell_type": "markdown",
   "metadata": {},
   "source": [
    "### Training and testing error rates for K = 1, 10 and 100.\n"
   ]
  },
  {
   "cell_type": "code",
   "execution_count": 21,
   "metadata": {},
   "outputs": [
    {
     "name": "stdout",
     "output_type": "stream",
     "text": [
      "Training error rates:\n",
      "\t K=1   0.00032626427406201586\n",
      "\t K=10  0.0538336052202284\n",
      "\t K=100 0.0884176182707993\n",
      "Testing error rates:\n",
      "\t K=1   0.064453125\n",
      "\t K=10  0.06510416666666663\n",
      "\t K=100 0.087890625\n"
     ]
    }
   ],
   "source": [
    "print(\"Training error rates:\")\n",
    "print(\"\\t K=1  \",k_err_train[0])\n",
    "print(\"\\t K=10 \",k_err_train[9])\n",
    "print(\"\\t K=100\",k_err_train[-1])\n",
    "print(\"Testing error rates:\")\n",
    "print(\"\\t K=1  \",k_err_test[0])\n",
    "print(\"\\t K=10 \",k_err_test[9])\n",
    "print(\"\\t K=100\",k_err_test[-1])"
   ]
  },
  {
   "cell_type": "markdown",
   "metadata": {},
   "source": [
    "**Preprocessing the data with log help to imporve accuracy hugely**\n",
    "\n",
    "I dont know why, beacause log is just monotonic function.\n",
    "\n",
    "Maybe it increase the difference of features.(from 0-100 to -inf-some value)！"
   ]
  },
  {
   "cell_type": "code",
   "execution_count": null,
   "metadata": {},
   "outputs": [],
   "source": []
  }
 ],
 "metadata": {
  "kernelspec": {
   "display_name": "Python 3",
   "language": "python",
   "name": "python3"
  },
  "language_info": {
   "codemirror_mode": {
    "name": "ipython",
    "version": 3
   },
   "file_extension": ".py",
   "mimetype": "text/x-python",
   "name": "python",
   "nbconvert_exporter": "python",
   "pygments_lexer": "ipython3",
   "version": "3.6.9"
  }
 },
 "nbformat": 4,
 "nbformat_minor": 2
}